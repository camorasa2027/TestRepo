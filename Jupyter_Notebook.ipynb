{
 "cells": [
  {
   "cell_type": "markdown",
   "metadata": {},
   "source": [
    "<center>\n",
    "    <img src=\"https://cf-courses-data.s3.us.cloud-object-storage.appdomain.cloud/IBMDeveloperSkillsNetwork-DS0105EN-SkillsNetwork/labs/Module2/images/SN_web_lightmode.png\" width=\"300\" alt=\"cognitiveclass.ai logo\">\n",
    "</center>\n"
   ]
  },
  {
   "cell_type": "markdown",
   "metadata": {},
   "source": [
    "#### Add your code below following the instructions given in the course\n"
   ]
  },
  {
   "cell_type": "markdown",
   "metadata": {},
   "source": [
    "\"Tarea\""
   ]
  },
  {
   "cell_type": "markdown",
   "metadata": {},
   "source": [
    "\"Este archivo contiene la tarea de Jupyter\""
   ]
  },
  {
   "cell_type": "markdown",
   "metadata": {},
   "source": [
    "Los lenguajes para ciencia de datos son : R, Python, SQL, Julia, scala\""
   ]
  },
  {
   "cell_type": "markdown",
   "metadata": {},
   "source": [
    "\"las bibliotecas más utilizadas en ciencia de datos, son: Panda Nupy, sympy, etc.\""
   ]
  },
  {
   "cell_type": "markdown",
   "metadata": {},
   "source": [
    "\"Las bibliiotecas que se usan en ciencia de datos son: Pandas, Numbyby, matplotlib, seaborn, Plotly, Altair, CatBoost, etc.\""
   ]
  },
  {
   "cell_type": "markdown",
   "metadata": {},
   "source": [
    "\"CATEGORIA\" | 2lIBRERIA\""
   ]
  },
  {
   "cell_type": "markdown",
   "metadata": {},
   "source": [
    "Manipulación y análisis de datos | Pandas"
   ]
  },
  {
   "cell_type": "markdown",
   "metadata": {},
   "source": [
    "Manipulación y análisis de datos | NumPy\n"
   ]
  },
  {
   "cell_type": "markdown",
   "metadata": {},
   "source": [
    "Manipulación y análisis de datos | Dask\n"
   ]
  },
  {
   "cell_type": "markdown",
   "metadata": {},
   "source": [
    "\"Ejemplo de operaciones aritméticas: \n",
    "print(f\"Suma: 5 + 3 = {suma}\")\"\n"
   ]
  },
  {
   "cell_type": "code",
   "execution_count": 2,
   "metadata": {},
   "outputs": [
    {
     "name": "stdout",
     "output_type": "stream",
     "text": [
      "Suma: 5 + 3 = 8\n",
      "Resta: 10 - 4 = 6\n",
      "Multiplicación: 7 * 2 = 14\n"
     ]
    }
   ],
   "source": [
    "\n",
    "# Suma\n",
    "suma = 5 + 3\n",
    "print(f\"Suma: 5 + 3 = {suma}\")\n",
    "\n",
    "# Resta\n",
    "resta = 10 - 4\n",
    "print(f\"Resta: 10 - 4 = {resta}\")\n",
    "\n",
    "# Multiplicación\n",
    "multiplicacion = 7 * 2\n",
    "print(f\"Multiplicación: 7 * 2 = {multiplicacion}\")\n"
   ]
  },
  {
   "cell_type": "code",
   "execution_count": 6,
   "metadata": {},
   "outputs": [
    {
     "name": "stdout",
     "output_type": "stream",
     "text": [
      "135 minutos equivalen a 2 horas y 15 minutos.\n"
     ]
    }
   ],
   "source": [
    "\n",
    "# Conversión de minutos a horas y minutos\n",
    "\n",
    "# Ingresar la cantidad de minutos\n",
    "minutos = 135\n",
    "\n",
    "# Calcular horas y minutos\n",
    "horas = minutos // 60\n",
    "minutos_restantes = minutos % 60\n",
    "\n",
    "# Mostrar el resultado\n",
    "print(f\"{minutos} minutos equivalen a {horas} horas y {minutos_restantes} minutos.\")\n"
   ]
  },
  {
   "cell_type": "code",
   "execution_count": 9,
   "metadata": {},
   "outputs": [],
   "source": [
    "\n",
    "# Lista de objetivos\n",
    "\n",
    "objetivos = [\n",
    "\"Aprender los fundamentos de Python\",\n",
    "\"Dominar bibliotecas de ciencia de datos como Pandas y NumPy\",\n",
    "\"Realizar análisis exploratorio de datos\",\n",
    "\"Construir modelos de machine learning\",\n",
    "\"Visualizar datos de manera efectiva\"]\n"
   ]
  },
  {
   "cell_type": "markdown",
   "metadata": {},
   "source": [
    "\"Autor: Carlos Mora\""
   ]
  },
  {
   "cell_type": "code",
   "execution_count": null,
   "metadata": {},
   "outputs": [],
   "source": []
  }
 ],
 "metadata": {
  "kernelspec": {
   "display_name": "Python 3 (ipykernel)",
   "language": "python",
   "name": "python3"
  },
  "language_info": {
   "codemirror_mode": {
    "name": "ipython",
    "version": 3
   },
   "file_extension": ".py",
   "mimetype": "text/x-python",
   "name": "python",
   "nbconvert_exporter": "python",
   "pygments_lexer": "ipython3",
   "version": "3.12.8"
  }
 },
 "nbformat": 4,
 "nbformat_minor": 4
}
